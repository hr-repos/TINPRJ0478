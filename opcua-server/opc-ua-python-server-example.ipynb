{
 "cells": [
  {
   "cell_type": "markdown",
   "id": "72cb2415",
   "metadata": {},
   "source": [
    "# OPC_UA python"
   ]
  },
  {
   "cell_type": "markdown",
   "id": "a74b970c",
   "metadata": {},
   "source": [
    "this is a document that explains the working of the opc-ua standerd at the server side, </br>\n",
    "but is mainly going to focus on the python implementation of a server and a client using the opcua standerd."
   ]
  },
  {
   "cell_type": "code",
   "execution_count": 4,
   "id": "14656c45",
   "metadata": {
    "collapsed": true
   },
   "outputs": [
    {
     "name": "stderr",
     "output_type": "stream",
     "text": [
      "cryptography is not installed, use of crypto disabled\n",
      "cryptography is not installed, use of crypto disabled\n",
      "Endpoints other than open requested but private key and certificate are not set.\n",
      "Listening on 127.0.0.1:8080\n"
     ]
    },
    {
     "name": "stdout",
     "output_type": "stream",
     "text": [
      "namepace_index: 2\n",
      "node_list: [i=85]\n",
      "starting server...\n",
      "server online\n"
     ]
    }
   ],
   "source": [
    "from opcua import Server\n",
    "\n",
    "server = Server()\n",
    "\n",
    "server.set_endpoint(\"opc.tcp://127.0.0.1:8080\")\n",
    "namepace_index = server.register_namespace(\"Room1\")\n",
    "print(\"namepace_index: \" + str(namepace_index))\n",
    " \n",
    "node_list = server.get_objects_node()\n",
    "print(\"node_list: [\" + str(node_list)+ \"]\")\n",
    "\n",
    "tempSensor = node_list.add_object('ns=2;s=\"TS1\"', \"Temperature Sensor 1\")\n",
    "bulb = node_list.add_object('ns=2;i=1', \"light bulb\")\n",
    "\n",
    "tempSensor.add_variable('ns=2;s=\"TS1_variableID\"', \"TS1_variableName\", \"a value\")\n",
    "temp = tempSensor.add_variable('ns=2;s=\"TS1 Temp\"', \"TS1 Temp\", 20)\n",
    "\n",
    "state = bulb.add_variable(2, \"state of lightbulb\", False)\n",
    "state.set_writable()\n",
    "\n",
    "print(\"starting server...\")\n",
    "server.start()\n",
    "print(\"server online\")"
   ]
  },
  {
   "cell_type": "markdown",
   "id": "5af5d16a",
   "metadata": {},
   "source": [
    "the full code of the doc ^ (remember to run server.stop() to stop the server at he last cel of this doc)"
   ]
  },
  {
   "cell_type": "markdown",
   "id": "11931540",
   "metadata": {},
   "source": [
    "## installing the libarys"
   ]
  },
  {
   "cell_type": "markdown",
   "id": "321443b6",
   "metadata": {},
   "source": [
    "luckily we only need one libary to install and that is the opcua libary by using pip install(the install standerd for python)."
   ]
  },
  {
   "cell_type": "code",
   "execution_count": 3,
   "id": "4b917487",
   "metadata": {
    "collapsed": true
   },
   "outputs": [
    {
     "name": "stdout",
     "output_type": "stream",
     "text": [
      "Collecting opcua\n",
      "  Downloading https://files.pythonhosted.org/packages/77/b1/5788cf02d4527ec816998ecd8b066242877f1b1ca6fcc07d7d4c0317fd04/opcua-0.98.13.tar.gz (572kB)Note: you may need to restart the kernel to use updated packages.\n"
     ]
    },
    {
     "name": "stderr",
     "output_type": "stream",
     "text": [
      "  Cache entry deserialization failed, entry ignored\n",
      "  Cache entry deserialization failed, entry ignored\n",
      "  Cache entry deserialization failed, entry ignored\n",
      "  Cache entry deserialization failed, entry ignored\n",
      "C:\\Users\\tim_k\\AppData\\Roaming\\Python\\Python36\\site-packages\\setuptools\\command\\install.py:37: SetuptoolsDeprecationWarning: setup.py install is deprecated. Use build and pip and other standards-based tools.\n",
      "  setuptools.SetuptoolsDeprecationWarning,\n",
      "C:\\Users\\tim_k\\AppData\\Roaming\\Python\\Python36\\site-packages\\setuptools\\command\\install.py:37: SetuptoolsDeprecationWarning: setup.py install is deprecated. Use build and pip and other standards-based tools.\n",
      "  setuptools.SetuptoolsDeprecationWarning,\n",
      "C:\\Users\\tim_k\\AppData\\Roaming\\Python\\Python36\\site-packages\\setuptools\\command\\install.py:37: SetuptoolsDeprecationWarning: setup.py install is deprecated. Use build and pip and other standards-based tools.\n",
      "  setuptools.SetuptoolsDeprecationWarning,\n",
      "You are using pip version 9.0.1, however version 24.0 is available.\n"
     ]
    },
    {
     "name": "stdout",
     "output_type": "stream",
     "text": [
      "\n",
      "Collecting lxml (from opcua)\n",
      "  Downloading https://files.pythonhosted.org/packages/16/a2/413cd64a26bd168469056977ee322b735b69028bdb6b873a4811f6fbb462/lxml-5.2.1-cp36-cp36m-win32.whl (3.5MB)\n",
      "Requirement already satisfied: python-dateutil in c:\\users\\tim_k\\appdata\\roaming\\python\\python36\\site-packages (from opcua)\n",
      "Collecting pytz (from opcua)\n",
      "  Downloading https://files.pythonhosted.org/packages/9c/3d/a121f284241f08268b21359bd425f7d4825cffc5ac5cd0e1b3d82ffd2b10/pytz-2024.1-py2.py3-none-any.whl (505kB)\n",
      "Requirement already satisfied: six>=1.5 in c:\\users\\tim_k\\appdata\\roaming\\python\\python36\\site-packages (from python-dateutil->opcua)\n",
      "Installing collected packages: lxml, pytz, opcua\n",
      "  Running setup.py install for opcua: started\n",
      "    Running setup.py install for opcua: finished with status 'done'\n",
      "Successfully installed lxml-5.2.1 opcua-0.98.13 pytz-2024.1\n"
     ]
    },
    {
     "name": "stderr",
     "output_type": "stream",
     "text": [
      "You should consider upgrading via the 'python -m pip install --upgrade pip' command.\n"
     ]
    }
   ],
   "source": [
    "pip install opcua"
   ]
  },
  {
   "cell_type": "markdown",
   "id": "292469f3",
   "metadata": {},
   "source": [
    "## the server"
   ]
  },
  {
   "cell_type": "markdown",
   "id": "352f3f08",
   "metadata": {},
   "source": [
    "first you need to import the Server class and make an object of set server class."
   ]
  },
  {
   "cell_type": "code",
   "execution_count": 1,
   "id": "df5a7317",
   "metadata": {},
   "outputs": [],
   "source": [
    "from opcua import Server\n",
    "\n",
    "server = Server()"
   ]
  },
  {
   "cell_type": "markdown",
   "id": "50b19442",
   "metadata": {},
   "source": [
    "now you need to set the endpoint this is the address the client needs to connect to the server. "
   ]
  },
  {
   "cell_type": "code",
   "execution_count": 2,
   "id": "a726c488",
   "metadata": {},
   "outputs": [],
   "source": [
    "server.set_endpoint(\"opc.tcp://127.0.0.1:8080\")"
   ]
  },
  {
   "cell_type": "markdown",
   "id": "1d2bff69",
   "metadata": {},
   "source": [
    "to explain the endpoint: </br>\n",
    "- *\"opc\"* &ensp;&ensp;&ensp;&ensp;&ensp;= is the comunication standerd\n",
    "- *\"tcp\"* &ensp;&ensp;&ensp;&ensp;&ensp; = over what the server comunicates\n",
    "- *\"127.0.0.1\"* = the IP adress\n",
    "- *\"8080\"* &ensp;&ensp;&ensp;&ensp;= the port"
   ]
  },
  {
   "cell_type": "markdown",
   "id": "00607f4d",
   "metadata": {},
   "source": [
    "### add namespace"
   ]
  },
  {
   "cell_type": "markdown",
   "id": "f891363a",
   "metadata": {},
   "source": [
    "now we need to register a namespace."
   ]
  },
  {
   "cell_type": "code",
   "execution_count": 3,
   "id": "e4063961",
   "metadata": {},
   "outputs": [
    {
     "data": {
      "text/plain": [
       "2"
      ]
     },
     "execution_count": 3,
     "metadata": {},
     "output_type": "execute_result"
    }
   ],
   "source": [
    "namepace_index = server.register_namespace(\"Room1\")\n",
    "namepace_index # prints what index number the newly made namespace is in in the servers namespace_list"
   ]
  },
  {
   "cell_type": "markdown",
   "id": "a6cb431f",
   "metadata": {},
   "source": [
    "### what are namespaces in opcua?"
   ]
  },
  {
   "cell_type": "markdown",
   "id": "f1abadd7",
   "metadata": {},
   "source": [
    "**OPC_UA namespaces are a way to uniquely identify nodes and data within OPC_UA(nodes are explained later in this document).**\n",
    "\n",
    "usially each namespace is associated with a specific information model, aka a group of nodes with simliar information for example all the tempreture nodes."
   ]
  },
  {
   "cell_type": "markdown",
   "id": "284bc2b9",
   "metadata": {},
   "source": [
    "### getting the node_list"
   ]
  },
  {
   "cell_type": "markdown",
   "id": "005f42a1",
   "metadata": {},
   "source": [
    "now we need to get the node_list so we can add nodes to the server."
   ]
  },
  {
   "cell_type": "code",
   "execution_count": 4,
   "id": "3b1db325",
   "metadata": {},
   "outputs": [
    {
     "data": {
      "text/plain": [
       "Node(TwoByteNodeId(i=85))"
      ]
     },
     "execution_count": 4,
     "metadata": {},
     "output_type": "execute_result"
    }
   ],
   "source": [
    "node_list = server.get_objects_node()\n",
    "node_list"
   ]
  },
  {
   "cell_type": "markdown",
   "id": "dbaee610",
   "metadata": {},
   "source": [
    "### what are nodes in OPC_UA?"
   ]
  },
  {
   "cell_type": "markdown",
   "id": "73e6915c",
   "metadata": {},
   "source": [
    "Node is a basic concept of the OPC UA protocol. </br>\n",
    "It has some unique identifier and represents types, relationships, objects, classes, variables and etc.</br></br>\n",
    "\n",
    "basicly you can see nodes in OPC_UA as object in object-oriented-programming."
   ]
  },
  {
   "cell_type": "markdown",
   "id": "caa470ff",
   "metadata": {},
   "source": [
    "### adding a node"
   ]
  },
  {
   "cell_type": "markdown",
   "id": "d1237920",
   "metadata": {},
   "source": [
    "as you can see there is one node in the list with a NodeId of i=85. </br>\n",
    "now we are going to add a node to the server."
   ]
  },
  {
   "cell_type": "code",
   "execution_count": 5,
   "id": "e8d0f477",
   "metadata": {},
   "outputs": [],
   "source": [
    "tempSensor = node_list.add_object('ns=2;s=\"TS1\"', \"Temperature Sensor 1\")\n"
   ]
  },
  {
   "cell_type": "code",
   "execution_count": 6,
   "id": "6561e92f",
   "metadata": {},
   "outputs": [
    {
     "data": {
      "text/plain": [
       "Node(StringNodeId(ns=2;s=\"TS1\"))"
      ]
     },
     "execution_count": 6,
     "metadata": {},
     "output_type": "execute_result"
    }
   ],
   "source": [
    "tempSensor"
   ]
  },
  {
   "cell_type": "code",
   "execution_count": 7,
   "id": "e22e8ec3",
   "metadata": {},
   "outputs": [],
   "source": [
    "bulb = node_list.add_object('ns=2;i=2', \"light bulb\")"
   ]
  },
  {
   "cell_type": "code",
   "execution_count": 8,
   "id": "b2997fe7",
   "metadata": {},
   "outputs": [
    {
     "data": {
      "text/plain": [
       "Node(NumericNodeId(ns=2;i=2))"
      ]
     },
     "execution_count": 8,
     "metadata": {},
     "output_type": "execute_result"
    }
   ],
   "source": [
    "bulb"
   ]
  },
  {
   "cell_type": "markdown",
   "id": "7502f4c9",
   "metadata": {},
   "source": [
    "now to explain the add_object() parameters:\n",
    "- *\"ns\"* = the namespace index that the node is a part of\n",
    "- *\"s\"* = the String_NodeId of the node\n",
    "- *\"i\"* = the Number_nodeId of the node\n",
    "- *\"Temperature Sensor 1\"* = is the name of the node"
   ]
  },
  {
   "cell_type": "markdown",
   "id": "60e1eddc",
   "metadata": {},
   "source": [
    "and now how to add values to the nodes."
   ]
  },
  {
   "cell_type": "code",
   "execution_count": 9,
   "id": "5a42129e",
   "metadata": {},
   "outputs": [],
   "source": [
    "tempSensor.add_variable('ns=2;s=\"TS1_variableID\"', \"TS1_variableName\", \"a value\")\n",
    "tempReading = tempSensor.add_variable('ns=2;i=1', \"TS1_temperatureReading\", 20)\n",
    "\n",
    "state = bulb.add_variable(2, \"state of lightbulb\", False)\n",
    "state.set_writable()"
   ]
  },
  {
   "cell_type": "markdown",
   "id": "3977c502",
   "metadata": {},
   "source": [
    "so as you can see variables also have an id and a name but are also readonly by default so you have to get the variable and \".set_writable()\" to be able to change the value in the node."
   ]
  },
  {
   "cell_type": "code",
   "execution_count": 1,
   "id": "7be773c2",
   "metadata": {
    "collapsed": true
   },
   "outputs": [
    {
     "name": "stdout",
     "output_type": "stream",
     "text": [
      "starting server...\n"
     ]
    },
    {
     "ename": "NameError",
     "evalue": "name 'server' is not defined",
     "output_type": "error",
     "traceback": [
      "\u001b[1;31m---------------------------------------------------------------------------\u001b[0m",
      "\u001b[1;31mNameError\u001b[0m                                 Traceback (most recent call last)",
      "\u001b[1;32m<ipython-input-1-ce7a47b5d58e>\u001b[0m in \u001b[0;36m<module>\u001b[1;34m\u001b[0m\n\u001b[0;32m      1\u001b[0m \u001b[0mprint\u001b[0m\u001b[1;33m(\u001b[0m\u001b[1;34m\"starting server...\"\u001b[0m\u001b[1;33m)\u001b[0m\u001b[1;33m\u001b[0m\u001b[0m\n\u001b[1;32m----> 2\u001b[1;33m \u001b[0mserver\u001b[0m\u001b[1;33m.\u001b[0m\u001b[0mstart\u001b[0m\u001b[1;33m(\u001b[0m\u001b[1;33m)\u001b[0m\u001b[1;33m\u001b[0m\u001b[0m\n\u001b[0m\u001b[0;32m      3\u001b[0m \u001b[0mprint\u001b[0m\u001b[1;33m(\u001b[0m\u001b[1;34m\"server online\"\u001b[0m\u001b[1;33m)\u001b[0m\u001b[1;33m\u001b[0m\u001b[0m\n",
      "\u001b[1;31mNameError\u001b[0m: name 'server' is not defined"
     ]
    }
   ],
   "source": [
    "print(\"starting server...\")\n",
    "server.start()\n",
    "print(\"server online\")"
   ]
  },
  {
   "cell_type": "code",
   "execution_count": 11,
   "id": "ec19f6d9",
   "metadata": {},
   "outputs": [
    {
     "name": "stdout",
     "output_type": "stream",
     "text": [
      "server stopped\n"
     ]
    }
   ],
   "source": [
    "server.stop()\n",
    "print(\"server stopped\")"
   ]
  }
 ],
 "metadata": {
  "kernelspec": {
   "display_name": "Python 3 (ipykernel)",
   "language": "python",
   "name": "python3"
  },
  "language_info": {
   "codemirror_mode": {
    "name": "ipython",
    "version": 3
   },
   "file_extension": ".py",
   "mimetype": "text/x-python",
   "name": "python",
   "nbconvert_exporter": "python",
   "pygments_lexer": "ipython3",
   "version": "3.6.2"
  }
 },
 "nbformat": 4,
 "nbformat_minor": 5
}
