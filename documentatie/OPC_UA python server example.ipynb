{
 "cells": [
  {
   "cell_type": "markdown",
   "id": "72cb2415",
   "metadata": {},
   "source": [
    "# OPC_UA python"
   ]
  },
  {
   "cell_type": "markdown",
   "id": "a74b970c",
   "metadata": {},
   "source": [
    "this is a document that explains the working of the opc-ua standerd at the server side, </br>\n",
    "but is mainly going to focus on the python implementation of a server and a client using the opcua standerd."
   ]
  },
  {
   "cell_type": "code",
   "execution_count": 3,
   "id": "14656c45",
   "metadata": {
    "collapsed": true
   },
   "outputs": [
    {
     "name": "stderr",
     "output_type": "stream",
     "text": [
      "Endpoints other than open requested but private key and certificate are not set.\n",
      "Listening on 127.0.0.1:8080\n"
     ]
    },
    {
     "name": "stdout",
     "output_type": "stream",
     "text": [
      "namepace_index: 2\n",
      "node_list: [i=85]\n",
      "starting server...\n",
      "server online\n"
     ]
    }
   ],
   "source": [
    "from opcua import Server\n",
    "\n",
    "server = Server()\n",
    "\n",
    "server.set_endpoint(\"opc.tcp://127.0.0.1:8080\")\n",
    "namepace_index = server.register_namespace(\"Room1\")\n",
    "print(\"namepace_index: \" + str(namepace_index))\n",
    " \n",
    "node_list = server.get_objects_node()\n",
    "print(\"node_list: [\" + str(node_list)+ \"]\")\n",
    "\n",
    "tempSensor = node_list.add_object('ns=2;s=\"TS1\"', \"Temperature Sensor 1\")\n",
    "bulb = node_list.add_object('ns=2;i=1', \"light bulb\")\n",
    "\n",
    "tempSensor.add_variable('ns=2;s=\"TS1_variableID\"', \"TS1_variableName\", \"a value\")\n",
    "temp = tempSensor.add_variable('ns=2;s=\"TS1 Temp\"', \"TS1 Temp\", 20)\n",
    "\n",
    "state = bulb.add_variable(2, \"state of lightbulb\", False)\n",
    "state.set_writable()\n",
    "\n",
    "print(\"starting server...\")\n",
    "server.start()\n",
    "print(\"server online\")"
   ]
  },
  {
   "cell_type": "markdown",
   "id": "5af5d16a",
   "metadata": {},
   "source": [
    "the full code of the doc ^ (remember to run server.stop() to stop the server at he last cel of this doc)"
   ]
  },
  {
   "cell_type": "markdown",
   "id": "11931540",
   "metadata": {},
   "source": [
    "## installing the libarys"
   ]
  },
  {
   "cell_type": "markdown",
   "id": "321443b6",
   "metadata": {},
   "source": [
    "luckily we only need one libary to install and that is the opcua libary by using pip install(the install standerd for python)."
   ]
  },
  {
   "cell_type": "code",
   "execution_count": 1,
   "id": "4b917487",
   "metadata": {
    "collapsed": true
   },
   "outputs": [
    {
     "name": "stdout",
     "output_type": "stream",
     "text": [
      "Collecting opcua\n",
      "  Using cached opcua-0.98.13.tar.gz (572 kB)\n",
      "  Preparing metadata (setup.py): started\n",
      "  Preparing metadata (setup.py): finished with status 'done'\n",
      "Requirement already satisfied: lxml in c:\\users\\tim_k\\anaconda3\\lib\\site-packages (from opcua) (4.9.1)\n",
      "Requirement already satisfied: python-dateutil in c:\\users\\tim_k\\anaconda3\\lib\\site-packages (from opcua) (2.8.2)\n",
      "Requirement already satisfied: pytz in c:\\users\\tim_k\\anaconda3\\lib\\site-packages (from opcua) (2022.7)\n",
      "Requirement already satisfied: six>=1.5 in c:\\users\\tim_k\\anaconda3\\lib\\site-packages (from python-dateutil->opcua) (1.16.0)\n",
      "Building wheels for collected packages: opcua\n",
      "  Building wheel for opcua (setup.py): started\n",
      "  Building wheel for opcua (setup.py): finished with status 'done'\n",
      "  Created wheel for opcua: filename=opcua-0.98.13-py3-none-any.whl size=628147 sha256=0cc1160c5b462b3d364fdc40ddc94cca4c988bbf9a49bddcac9bfff0d86c944a\n",
      "  Stored in directory: c:\\users\\tim_k\\appdata\\local\\pip\\cache\\wheels\\f5\\7a\\2d\\f4919079130e8059a5746606359e5cf0b1f54724d6c9fd78ff\n",
      "Successfully built opcua\n",
      "Installing collected packages: opcua\n",
      "Successfully installed opcua-0.98.13\n",
      "Note: you may need to restart the kernel to use updated packages.\n"
     ]
    }
   ],
   "source": [
    "pip install opcua"
   ]
  },
  {
   "cell_type": "markdown",
   "id": "292469f3",
   "metadata": {},
   "source": [
    "## the server"
   ]
  },
  {
   "cell_type": "markdown",
   "id": "352f3f08",
   "metadata": {},
   "source": [
    "first you need to import the Server class and make an object of set server class."
   ]
  },
  {
   "cell_type": "code",
   "execution_count": 1,
   "id": "df5a7317",
   "metadata": {},
   "outputs": [],
   "source": [
    "from opcua import Server\n",
    "\n",
    "server = Server()"
   ]
  },
  {
   "cell_type": "markdown",
   "id": "50b19442",
   "metadata": {},
   "source": [
    "now you need to set the endpoint this is the address the client needs to connect to the server. "
   ]
  },
  {
   "cell_type": "code",
   "execution_count": 2,
   "id": "a726c488",
   "metadata": {},
   "outputs": [],
   "source": [
    "server.set_endpoint(\"opc.tcp://127.0.0.1:8080\")"
   ]
  },
  {
   "cell_type": "markdown",
   "id": "1d2bff69",
   "metadata": {},
   "source": [
    "to explain the endpoint: </br>\n",
    "- *\"opc\"* &ensp;&ensp;&ensp;&ensp;&ensp;= is the comunication standerd\n",
    "- *\"tcp\"* &ensp;&ensp;&ensp;&ensp;&ensp; = over what the server comunicates\n",
    "- *\"127.0.0.1\"* = the IP adress\n",
    "- *\"8080\"* &ensp;&ensp;&ensp;&ensp;= the port"
   ]
  },
  {
   "cell_type": "markdown",
   "id": "00607f4d",
   "metadata": {},
   "source": [
    "### add namespace"
   ]
  },
  {
   "cell_type": "markdown",
   "id": "f891363a",
   "metadata": {},
   "source": [
    "now we need to register a namespace."
   ]
  },
  {
   "cell_type": "code",
   "execution_count": 3,
   "id": "e4063961",
   "metadata": {},
   "outputs": [
    {
     "data": {
      "text/plain": [
       "2"
      ]
     },
     "execution_count": 3,
     "metadata": {},
     "output_type": "execute_result"
    }
   ],
   "source": [
    "namepace_index = server.register_namespace(\"Room1\")\n",
    "namepace_index # prints what index number the newly made namespace is in in the servers namespace_list"
   ]
  },
  {
   "cell_type": "markdown",
   "id": "a6cb431f",
   "metadata": {},
   "source": [
    "### what are namespaces in opcua?"
   ]
  },
  {
   "cell_type": "markdown",
   "id": "f1abadd7",
   "metadata": {},
   "source": [
    "**OPC_UA namespaces are a way to uniquely identify nodes and data within OPC_UA(nodes are explained later in this document).**\n",
    "\n",
    "usially each namespace is associated with a specific information model, aka a group of nodes with simliar information for example all the tempreture nodes."
   ]
  },
  {
   "cell_type": "markdown",
   "id": "284bc2b9",
   "metadata": {},
   "source": [
    "### getting the node_list"
   ]
  },
  {
   "cell_type": "markdown",
   "id": "005f42a1",
   "metadata": {},
   "source": [
    "now we need to get the node_list so we can add nodes to the server."
   ]
  },
  {
   "cell_type": "code",
   "execution_count": 4,
   "id": "3b1db325",
   "metadata": {},
   "outputs": [
    {
     "data": {
      "text/plain": [
       "Node(TwoByteNodeId(i=85))"
      ]
     },
     "execution_count": 4,
     "metadata": {},
     "output_type": "execute_result"
    }
   ],
   "source": [
    "node_list = server.get_objects_node()\n",
    "node_list"
   ]
  },
  {
   "cell_type": "markdown",
   "id": "dbaee610",
   "metadata": {},
   "source": [
    "### what are nodes in OPC_UA?"
   ]
  },
  {
   "cell_type": "markdown",
   "id": "73e6915c",
   "metadata": {},
   "source": [
    "Node is a basic concept of the OPC UA protocol. </br>\n",
    "It has some unique identifier and represents types, relationships, objects, classes, variables and etc.</br></br>\n",
    "\n",
    "basicly you can see nodes in OPC_UA as object in object-oriented-programming."
   ]
  },
  {
   "cell_type": "markdown",
   "id": "caa470ff",
   "metadata": {},
   "source": [
    "### adding a node"
   ]
  },
  {
   "cell_type": "markdown",
   "id": "d1237920",
   "metadata": {},
   "source": [
    "as you can see there is one node in the list with a NodeId of i=85. </br>\n",
    "now we are going to add a node to the server."
   ]
  },
  {
   "cell_type": "code",
   "execution_count": 5,
   "id": "e8d0f477",
   "metadata": {},
   "outputs": [],
   "source": [
    "tempSensor = node_list.add_object('ns=2;s=\"TS1\"', \"Temperature Sensor 1\")\n"
   ]
  },
  {
   "cell_type": "code",
   "execution_count": 6,
   "id": "6561e92f",
   "metadata": {},
   "outputs": [
    {
     "data": {
      "text/plain": [
       "Node(StringNodeId(ns=2;s=\"TS1\"))"
      ]
     },
     "execution_count": 6,
     "metadata": {},
     "output_type": "execute_result"
    }
   ],
   "source": [
    "tempSensor"
   ]
  },
  {
   "cell_type": "code",
   "execution_count": 7,
   "id": "e22e8ec3",
   "metadata": {},
   "outputs": [],
   "source": [
    "bulb = node_list.add_object('ns=2;i=2', \"light bulb\")"
   ]
  },
  {
   "cell_type": "code",
   "execution_count": 8,
   "id": "b2997fe7",
   "metadata": {},
   "outputs": [
    {
     "data": {
      "text/plain": [
       "Node(NumericNodeId(ns=2;i=2))"
      ]
     },
     "execution_count": 8,
     "metadata": {},
     "output_type": "execute_result"
    }
   ],
   "source": [
    "bulb"
   ]
  },
  {
   "cell_type": "markdown",
   "id": "7502f4c9",
   "metadata": {},
   "source": [
    "now to explain the add_object() parameters:\n",
    "- *\"ns\"* = the namespace index that the node is a part of\n",
    "- *\"s\"* = the String_NodeId of the node\n",
    "- *\"i\"* = the Number_nodeId of the node\n",
    "- *\"Temperature Sensor 1\"* = is the name of the node"
   ]
  },
  {
   "cell_type": "markdown",
   "id": "60e1eddc",
   "metadata": {},
   "source": [
    "and now how to add values to the nodes."
   ]
  },
  {
   "cell_type": "code",
   "execution_count": 9,
   "id": "5a42129e",
   "metadata": {},
   "outputs": [],
   "source": [
    "tempSensor.add_variable('ns=2;s=\"TS1_variableID\"', \"TS1_variableName\", \"a value\")\n",
    "tempReading = tempSensor.add_variable('ns=2;i=1', \"TS1_temperatureReading\", 20)\n",
    "\n",
    "state = bulb.add_variable(2, \"state of lightbulb\", False)\n",
    "state.set_writable()"
   ]
  },
  {
   "cell_type": "markdown",
   "id": "3977c502",
   "metadata": {},
   "source": [
    "so as you can see variables also have an id and a name but are also readonly by default so you have to get the variable and \".set_writable()\" to be able to change the value in the node."
   ]
  },
  {
   "cell_type": "code",
   "execution_count": 10,
   "id": "7be773c2",
   "metadata": {
    "collapsed": true
   },
   "outputs": [
    {
     "name": "stderr",
     "output_type": "stream",
     "text": [
      "Endpoints other than open requested but private key and certificate are not set.\n",
      "Listening on 127.0.0.1:8080\n"
     ]
    },
    {
     "name": "stdout",
     "output_type": "stream",
     "text": [
      "starting server...\n",
      "server online\n"
     ]
    }
   ],
   "source": [
    "print(\"starting server...\")\n",
    "server.start()\n",
    "print(\"server online\")"
   ]
  },
  {
   "cell_type": "code",
   "execution_count": 11,
   "id": "ec19f6d9",
   "metadata": {},
   "outputs": [
    {
     "name": "stdout",
     "output_type": "stream",
     "text": [
      "server stopped\n"
     ]
    }
   ],
   "source": [
    "server.stop()\n",
    "print(\"server stopped\")"
   ]
  }
 ],
 "metadata": {
  "kernelspec": {
   "display_name": "Python 3 (ipykernel)",
   "language": "python",
   "name": "python3"
  },
  "language_info": {
   "codemirror_mode": {
    "name": "ipython",
    "version": 3
   },
   "file_extension": ".py",
   "mimetype": "text/x-python",
   "name": "python",
   "nbconvert_exporter": "python",
   "pygments_lexer": "ipython3",
   "version": "3.10.9"
  }
 },
 "nbformat": 4,
 "nbformat_minor": 5
}
